{
 "cells": [
  {
   "cell_type": "code",
   "execution_count": 1,
   "id": "bf283539",
   "metadata": {},
   "outputs": [],
   "source": [
    "#importation des modules\n",
    "from keras.models import Sequential\n",
    "from keras.layers import Conv2D\n",
    "from keras.layers import MaxPooling2D\n",
    "from keras.layers import Flatten\n",
    "from keras.layers import Dense"
   ]
  },
  {
   "cell_type": "code",
   "execution_count": 2,
   "id": "6ce0b948",
   "metadata": {},
   "outputs": [],
   "source": [
    "#Initialiser la CNN \n",
    "\n",
    "classifier = Sequential()"
   ]
  },
  {
   "cell_type": "code",
   "execution_count": 3,
   "id": "5269ab89",
   "metadata": {},
   "outputs": [],
   "source": [
    "#Etape 1: Convolution\n",
    "classifier.add(Conv2D(32, (3, 3), input_shape = (64, 64, 3), activation = 'relu'))\n"
   ]
  },
  {
   "cell_type": "code",
   "execution_count": 4,
   "id": "cbd8b270",
   "metadata": {},
   "outputs": [],
   "source": [
    "#Etape 2 - Pooling\n",
    "classifier.add(MaxPooling2D(pool_size = (2, 2)))\n"
   ]
  },
  {
   "cell_type": "code",
   "execution_count": 5,
   "id": "e17e823a",
   "metadata": {},
   "outputs": [],
   "source": [
    "# ajout d'une couche de convolution\n",
    "classifier.add(Conv2D(32, (3, 3), activation = 'relu'))\n",
    "classifier.add(MaxPooling2D(pool_size = (2, 2)))\n"
   ]
  },
  {
   "cell_type": "code",
   "execution_count": 6,
   "id": "b1397788",
   "metadata": {},
   "outputs": [],
   "source": [
    "#Etape 3 - Flattening\n",
    "classifier.add(Flatten())\n"
   ]
  },
  {
   "cell_type": "code",
   "execution_count": 7,
   "id": "5b017cdc",
   "metadata": {},
   "outputs": [],
   "source": [
    "# Etape 4 - couche completement connectée\n",
    "classifier.add(Dense(units = 128, activation = 'relu'))\n",
    "classifier.add(Dense(units = 1, activation = 'sigmoid'))\n"
   ]
  },
  {
   "cell_type": "code",
   "execution_count": 8,
   "id": "a6983b61",
   "metadata": {},
   "outputs": [],
   "source": [
    "# Compiler the CNN\n",
    "classifier.compile(optimizer = 'adam', loss = 'binary_crossentropy', metrics = ['accuracy'])\n"
   ]
  },
  {
   "cell_type": "code",
   "execution_count": 9,
   "id": "9d342a76",
   "metadata": {},
   "outputs": [
    {
     "name": "stdout",
     "output_type": "stream",
     "text": [
      "Found 8000 images belonging to 2 classes.\n",
      "Found 2000 images belonging to 2 classes.\n",
      "WARNING:tensorflow:From <ipython-input-9-0eff8d6a5821>:26: Model.fit_generator (from tensorflow.python.keras.engine.training) is deprecated and will be removed in a future version.\n",
      "Instructions for updating:\n",
      "Please use Model.fit, which supports generators.\n",
      "Epoch 1/25\n",
      "250/250 [==============================] - 61s 244ms/step - loss: 0.6813 - accuracy: 0.5813 - val_loss: 0.6545 - val_accuracy: 0.6275\n",
      "Epoch 2/25\n",
      "250/250 [==============================] - 61s 245ms/step - loss: 0.6407 - accuracy: 0.6386 - val_loss: 0.6012 - val_accuracy: 0.6925\n",
      "Epoch 3/25\n",
      "250/250 [==============================] - 64s 255ms/step - loss: 0.5970 - accuracy: 0.6808 - val_loss: 0.5608 - val_accuracy: 0.7275\n",
      "Epoch 4/25\n",
      "250/250 [==============================] - 73s 291ms/step - loss: 0.5508 - accuracy: 0.7185 - val_loss: 0.5427 - val_accuracy: 0.7205\n",
      "Epoch 5/25\n",
      "250/250 [==============================] - 62s 247ms/step - loss: 0.5187 - accuracy: 0.7466 - val_loss: 0.5243 - val_accuracy: 0.7480\n",
      "Epoch 6/25\n",
      "250/250 [==============================] - 65s 258ms/step - loss: 0.4946 - accuracy: 0.7584 - val_loss: 0.5065 - val_accuracy: 0.7605\n",
      "Epoch 7/25\n",
      "250/250 [==============================] - 76s 303ms/step - loss: 0.4716 - accuracy: 0.7749 - val_loss: 0.4866 - val_accuracy: 0.7720\n",
      "Epoch 8/25\n",
      "250/250 [==============================] - 73s 290ms/step - loss: 0.4629 - accuracy: 0.7811 - val_loss: 0.4772 - val_accuracy: 0.7755\n",
      "Epoch 9/25\n",
      "250/250 [==============================] - 60s 239ms/step - loss: 0.4430 - accuracy: 0.7894 - val_loss: 0.4708 - val_accuracy: 0.7825\n",
      "Epoch 10/25\n",
      "250/250 [==============================] - 59s 238ms/step - loss: 0.4277 - accuracy: 0.7983 - val_loss: 0.4810 - val_accuracy: 0.7815\n",
      "Epoch 11/25\n",
      "250/250 [==============================] - 59s 237ms/step - loss: 0.4147 - accuracy: 0.8079 - val_loss: 0.4675 - val_accuracy: 0.7945\n",
      "Epoch 12/25\n",
      "250/250 [==============================] - 60s 241ms/step - loss: 0.3966 - accuracy: 0.8231 - val_loss: 0.4904 - val_accuracy: 0.7915\n",
      "Epoch 13/25\n",
      "250/250 [==============================] - 68s 270ms/step - loss: 0.3772 - accuracy: 0.8315 - val_loss: 0.4693 - val_accuracy: 0.7920\n",
      "Epoch 14/25\n",
      "250/250 [==============================] - 77s 308ms/step - loss: 0.3706 - accuracy: 0.8324 - val_loss: 0.5592 - val_accuracy: 0.7580\n",
      "Epoch 15/25\n",
      "250/250 [==============================] - 73s 293ms/step - loss: 0.3611 - accuracy: 0.8399 - val_loss: 0.4559 - val_accuracy: 0.7995\n",
      "Epoch 16/25\n",
      "250/250 [==============================] - 77s 309ms/step - loss: 0.3415 - accuracy: 0.8465 - val_loss: 0.4911 - val_accuracy: 0.7850\n",
      "Epoch 17/25\n",
      "250/250 [==============================] - 59s 238ms/step - loss: 0.3268 - accuracy: 0.8599 - val_loss: 0.5040 - val_accuracy: 0.7925\n",
      "Epoch 18/25\n",
      "250/250 [==============================] - 54s 216ms/step - loss: 0.3067 - accuracy: 0.8662 - val_loss: 0.4830 - val_accuracy: 0.7955\n",
      "Epoch 19/25\n",
      "250/250 [==============================] - 46s 185ms/step - loss: 0.3090 - accuracy: 0.8648 - val_loss: 0.4706 - val_accuracy: 0.8025\n",
      "Epoch 20/25\n",
      "250/250 [==============================] - 43s 173ms/step - loss: 0.2945 - accuracy: 0.8770 - val_loss: 0.5087 - val_accuracy: 0.7830\n",
      "Epoch 21/25\n",
      "250/250 [==============================] - 42s 170ms/step - loss: 0.2662 - accuracy: 0.8891 - val_loss: 0.5108 - val_accuracy: 0.7865\n",
      "Epoch 22/25\n",
      "250/250 [==============================] - 42s 170ms/step - loss: 0.2652 - accuracy: 0.8889 - val_loss: 0.5497 - val_accuracy: 0.7920\n",
      "Epoch 23/25\n",
      "250/250 [==============================] - 42s 170ms/step - loss: 0.2437 - accuracy: 0.8999 - val_loss: 0.5611 - val_accuracy: 0.7905\n",
      "Epoch 24/25\n",
      "250/250 [==============================] - 41s 165ms/step - loss: 0.2425 - accuracy: 0.8994 - val_loss: 0.6101 - val_accuracy: 0.7680\n",
      "Epoch 25/25\n",
      "250/250 [==============================] - 41s 165ms/step - loss: 0.2201 - accuracy: 0.9122 - val_loss: 0.5772 - val_accuracy: 0.8020\n"
     ]
    },
    {
     "data": {
      "text/plain": [
       "<tensorflow.python.keras.callbacks.History at 0x1c11cb48>"
      ]
     },
     "execution_count": 9,
     "metadata": {},
     "output_type": "execute_result"
    }
   ],
   "source": [
    "# Partie 2 - Fitting the CNN to the images\n",
    "\n",
    "from keras.preprocessing.image import ImageDataGenerator\n",
    "\n",
    "train_datagen = ImageDataGenerator(rescale = 1./255,\n",
    "                                   shear_range = 0.2,\n",
    "                                   zoom_range = 0.2,\n",
    "                                   horizontal_flip = True)\n",
    "\n",
    "test_datagen = ImageDataGenerator(rescale = 1./255)\n",
    "\n",
    "training_set = train_datagen.flow_from_directory('dataset\\\\training_set',\n",
    "                                                 target_size = (64, 64),\n",
    "                                                 batch_size = 32,\n",
    "                                                 class_mode = 'binary')\n",
    "\n",
    "test_set = test_datagen.flow_from_directory('dataset\\\\test_set',\n",
    "                                            target_size = (64, 64),\n",
    "                                            batch_size = 32,\n",
    "                                            class_mode = 'binary')\n",
    "\n",
    "classifier.fit_generator(training_set,\n",
    "                         steps_per_epoch = 250,\n",
    "                         epochs = 25,\n",
    "                         validation_data = test_set,\n",
    "                         validation_steps = 63)\n"
   ]
  },
  {
   "cell_type": "code",
   "execution_count": 23,
   "id": "c54af85b",
   "metadata": {},
   "outputs": [
    {
     "name": "stdout",
     "output_type": "stream",
     "text": [
      "chat\n"
     ]
    }
   ],
   "source": [
    "# Part 3 - Making new predictions\n",
    "\n",
    "import numpy as np\n",
    "from keras.preprocessing import image\n",
    "test_image = image.load_img('dataset\\\\single_prediction\\\\chat_1.jpg', target_size = (64, 64))\n",
    "test_image = image.img_to_array(test_image)\n",
    "test_image = np.expand_dims(test_image, axis = 0)\n",
    "result = classifier.predict(test_image)\n",
    "training_set.class_indices\n",
    "if result[0][0] == 1:\n",
    "    prediction = \"chien\"\n",
    "    print(prediction)\n",
    "else:\n",
    "    prediction = \"chat\"\n",
    "    print(prediction)\n",
    "    "
   ]
  },
  {
   "cell_type": "code",
   "execution_count": null,
   "id": "45cb6376",
   "metadata": {},
   "outputs": [],
   "source": []
  },
  {
   "cell_type": "code",
   "execution_count": null,
   "id": "b40b9fcb",
   "metadata": {},
   "outputs": [],
   "source": []
  }
 ],
 "metadata": {
  "kernelspec": {
   "display_name": "Python 3",
   "language": "python",
   "name": "python3"
  },
  "language_info": {
   "codemirror_mode": {
    "name": "ipython",
    "version": 3
   },
   "file_extension": ".py",
   "mimetype": "text/x-python",
   "name": "python",
   "nbconvert_exporter": "python",
   "pygments_lexer": "ipython3",
   "version": "3.7.10"
  }
 },
 "nbformat": 4,
 "nbformat_minor": 5
}
