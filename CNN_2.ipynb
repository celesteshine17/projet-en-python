{
 "cells": [
  {
   "cell_type": "code",
   "execution_count": 17,
   "id": "bd985d1d",
   "metadata": {},
   "outputs": [],
   "source": [
    "#importation des modules\n",
    "from keras.models import Sequential\n",
    "from keras.layers import Conv2D\n",
    "from keras.layers import MaxPooling2D\n",
    "from keras.layers import Flatten\n",
    "from keras.layers import Dense\n",
    "from keras.layers import Dropout"
   ]
  },
  {
   "cell_type": "code",
   "execution_count": 10,
   "id": "79fcc9c6",
   "metadata": {},
   "outputs": [],
   "source": [
    "#Initialiser la CNN \n",
    "\n",
    "classifier = Sequential()"
   ]
  },
  {
   "cell_type": "code",
   "execution_count": 11,
   "id": "b571ad24",
   "metadata": {},
   "outputs": [],
   "source": [
    "#Etape 1: Convolution\n",
    "#Premiere couche de convolution \n",
    "classifier.add(Conv2D(32, (3, 3), input_shape = (150, 150, 3), activation = 'relu'))\n",
    "classifier.add(MaxPooling2D(pool_size = (2, 2)))"
   ]
  },
  {
   "cell_type": "code",
   "execution_count": 12,
   "id": "55ff80b3",
   "metadata": {},
   "outputs": [],
   "source": [
    "# Deuxieme couche de convolution\n",
    "classifier.add(Conv2D(32, (3, 3), activation = 'relu'))\n",
    "classifier.add(MaxPooling2D(pool_size = (2, 2)))\n"
   ]
  },
  {
   "cell_type": "code",
   "execution_count": 13,
   "id": "065c6b85",
   "metadata": {},
   "outputs": [],
   "source": [
    "#Troisieme couche de convolution\n",
    "classifier.add(Conv2D(64, (3, 3), activation = 'relu'))\n",
    "classifier.add(MaxPooling2D(pool_size = (2, 2)))\n"
   ]
  },
  {
   "cell_type": "code",
   "execution_count": 14,
   "id": "78ac45d4",
   "metadata": {},
   "outputs": [],
   "source": [
    "#Quatrieme couche de convolution\n",
    "classifier.add(Conv2D(64, (3, 3), activation = 'relu'))\n",
    "classifier.add(MaxPooling2D(pool_size = (2, 2)))"
   ]
  },
  {
   "cell_type": "code",
   "execution_count": 15,
   "id": "4d0eafe0",
   "metadata": {},
   "outputs": [],
   "source": [
    "#Etape 3 - Flattening\n",
    "classifier.add(Flatten())\n"
   ]
  },
  {
   "cell_type": "code",
   "execution_count": 18,
   "id": "be098cf8",
   "metadata": {},
   "outputs": [],
   "source": [
    "# Etape 4 - couche completement connectée\n",
    "classifier.add(Dense(units = 128, activation = 'relu'))\n",
    "classifier.add(Dense(units = 128, activation = 'relu'))\n",
    "classifier.add(Dense(units = 128, activation = 'relu'))\n",
    "classifier.add(Dropout(0.3))\n",
    "classifier.add(Dense(units = 1, activation = 'sigmoid'))\n"
   ]
  },
  {
   "cell_type": "code",
   "execution_count": 19,
   "id": "85826011",
   "metadata": {},
   "outputs": [],
   "source": [
    "# Compiler the CNN\n",
    "classifier.compile(optimizer = 'adam', loss = 'binary_crossentropy', metrics = ['accuracy'])\n"
   ]
  },
  {
   "cell_type": "code",
   "execution_count": null,
   "id": "b0aa0dd7",
   "metadata": {},
   "outputs": [
    {
     "name": "stdout",
     "output_type": "stream",
     "text": [
      "Found 8000 images belonging to 2 classes.\n",
      "Found 2000 images belonging to 2 classes.\n",
      "WARNING:tensorflow:From <ipython-input-20-f234f0ed31fc>:26: Model.fit_generator (from tensorflow.python.keras.engine.training) is deprecated and will be removed in a future version.\n",
      "Instructions for updating:\n",
      "Please use Model.fit, which supports generators.\n",
      "Epoch 1/75\n",
      "250/250 [==============================] - 183s 732ms/step - loss: 0.6934 - accuracy: 0.4978 - val_loss: 0.6924 - val_accuracy: 0.5090\n",
      "Epoch 2/75\n",
      "250/250 [==============================] - 207s 830ms/step - loss: 0.6948 - accuracy: 0.5076 - val_loss: 0.6937 - val_accuracy: 0.4970\n",
      "Epoch 3/75\n",
      "250/250 [==============================] - 157s 627ms/step - loss: 0.6935 - accuracy: 0.4964 - val_loss: 0.6931 - val_accuracy: 0.5000\n",
      "Epoch 4/75\n",
      "250/250 [==============================] - 152s 609ms/step - loss: 0.6931 - accuracy: 0.5023 - val_loss: 0.6931 - val_accuracy: 0.5000\n",
      "Epoch 5/75\n",
      "250/250 [==============================] - 159s 635ms/step - loss: 0.6869 - accuracy: 0.5399 - val_loss: 0.7020 - val_accuracy: 0.5000\n",
      "Epoch 6/75\n",
      "250/250 [==============================] - 163s 654ms/step - loss: 0.6867 - accuracy: 0.5502 - val_loss: 0.6748 - val_accuracy: 0.5775\n",
      "Epoch 7/75\n",
      "250/250 [==============================] - 199s 797ms/step - loss: 0.6632 - accuracy: 0.6003 - val_loss: 0.6284 - val_accuracy: 0.6650\n",
      "Epoch 8/75\n",
      "250/250 [==============================] - 202s 809ms/step - loss: 0.6300 - accuracy: 0.6476 - val_loss: 0.6041 - val_accuracy: 0.6705\n",
      "Epoch 9/75\n",
      "250/250 [==============================] - 198s 794ms/step - loss: 0.5788 - accuracy: 0.7003 - val_loss: 0.5721 - val_accuracy: 0.7145\n",
      "Epoch 10/75\n",
      "250/250 [==============================] - 200s 801ms/step - loss: 0.5214 - accuracy: 0.7467 - val_loss: 0.5093 - val_accuracy: 0.7470\n",
      "Epoch 11/75\n",
      "250/250 [==============================] - 370s 1s/step - loss: 0.5084 - accuracy: 0.7577 - val_loss: 0.5175 - val_accuracy: 0.7470\n",
      "Epoch 12/75\n",
      "250/250 [==============================] - 450s 2s/step - loss: 0.4873 - accuracy: 0.7684 - val_loss: 0.4713 - val_accuracy: 0.7725\n",
      "Epoch 13/75\n",
      "197/250 [======================>.......] - ETA: 1:13 - loss: 0.4693 - accuracy: 0.7795"
     ]
    }
   ],
   "source": [
    "# Partie 2 - Fitting the CNN to the images\n",
    "\n",
    "from keras.preprocessing.image import ImageDataGenerator\n",
    "\n",
    "train_datagen = ImageDataGenerator(rescale = 1./255,\n",
    "                                   shear_range = 0.2,\n",
    "                                   zoom_range = 0.2,\n",
    "                                   horizontal_flip = True)\n",
    "\n",
    "test_datagen = ImageDataGenerator(rescale = 1./255)\n",
    "\n",
    "training_set = train_datagen.flow_from_directory('dataset\\\\training_set',\n",
    "                                                 target_size = (150, 150),\n",
    "                                                 batch_size = 32,\n",
    "                                                 class_mode = 'binary')\n",
    "\n",
    "test_set = test_datagen.flow_from_directory('dataset\\\\test_set',\n",
    "                                            target_size = (150, 150),\n",
    "                                            batch_size = 32,\n",
    "                                            class_mode = 'binary')\n",
    "\n",
    "classifier.fit_generator(training_set,\n",
    "                         steps_per_epoch = 250,\n",
    "                         epochs = 75,\n",
    "                         validation_data = test_set,\n",
    "                         validation_steps = 63)\n"
   ]
  },
  {
   "cell_type": "code",
   "execution_count": null,
   "id": "97b42fa6",
   "metadata": {},
   "outputs": [],
   "source": [
    "# Part 3 - Making new predictions\n",
    "\n",
    "import numpy as np\n",
    "from keras.preprocessing import image\n",
    "test_image = image.load_img('dataset/single_prediction/cat_or_dog_1.jpg', target_size = (64, 64))\n",
    "test_image = image.img_to_array(test_image)\n",
    "test_image = np.expand_dims(test_image, axis = 0)\n",
    "result = classifier.predict(test_image)\n",
    "training_set.class_indices\n",
    "if result[0][0] == 1:\n",
    "    prediction = \"chien\"\n",
    "    print(prediction)\n",
    "else:\n",
    "    prediction = \"chat\"\n",
    "    print(prediction)\n",
    "    "
   ]
  }
 ],
 "metadata": {
  "kernelspec": {
   "display_name": "Python 3",
   "language": "python",
   "name": "python3"
  },
  "language_info": {
   "codemirror_mode": {
    "name": "ipython",
    "version": 3
   },
   "file_extension": ".py",
   "mimetype": "text/x-python",
   "name": "python",
   "nbconvert_exporter": "python",
   "pygments_lexer": "ipython3",
   "version": "3.7.10"
  }
 },
 "nbformat": 4,
 "nbformat_minor": 5
}
